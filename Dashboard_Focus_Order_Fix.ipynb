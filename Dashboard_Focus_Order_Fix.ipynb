{
 "cells": [
  {
   "cell_type": "code",
   "execution_count": 2,
   "id": "1113e260",
   "metadata": {},
   "outputs": [],
   "source": [
    "#import the library to read & manipulate .twb file as xml file\n",
    "import xml.etree.ElementTree as ET\n",
    "tree = ET.parse('Dashboard Focus Order.twb')"
   ]
  },
  {
   "cell_type": "code",
   "execution_count": null,
   "id": "3b5fda43",
   "metadata": {},
   "outputs": [],
   "source": [
    "# use the below line to view the file\n",
    "#print(ET.tostring(root, encoding='utf8').decode('utf8'))"
   ]
  },
  {
   "cell_type": "code",
   "execution_count": 3,
   "id": "86826f9d",
   "metadata": {},
   "outputs": [],
   "source": [
    "#read the root node\n",
    "root = tree.getroot()"
   ]
  },
  {
   "cell_type": "code",
   "execution_count": 4,
   "id": "c3357c0c",
   "metadata": {},
   "outputs": [
    {
     "name": "stdout",
     "output_type": "stream",
     "text": [
      "dashboard\n",
      "{'name': 'Superstore Sales and Profit'}\n"
     ]
    }
   ],
   "source": [
    "# Retrieving all the dashboard names present in the file - this is to ensure the file is correct\n",
    "for child in root:\n",
    "    for node in child:\n",
    "        if 'dashboard' in node.tag:\n",
    "            print(node.tag)\n",
    "            print(node.attrib)"
   ]
  },
  {
   "cell_type": "code",
   "execution_count": 5,
   "id": "7ef51c10",
   "metadata": {},
   "outputs": [
    {
     "name": "stdout",
     "output_type": "stream",
     "text": [
      "{'_.fcp.SetMembershipControl.false...type': 'layout-flow', '_.fcp.SetMembershipControl.true...type-v2': 'layout-flow', 'friendly-name': 'Vertical Container', 'h': '98000', 'id': '70', 'param': 'vert', 'w': '98400', 'x': '800', 'y': '1000'}\n",
      "{'_.fcp.SetMembershipControl.false...type': 'title', '_.fcp.SetMembershipControl.true...type-v2': 'title', 'friendly-name': 'Dashboard Title', 'h': '4200', 'id': '10', 'w': '98400', 'x': '800', 'y': '1000'}\n",
      "{'_.fcp.SetMembershipControl.false...type': 'text', '_.fcp.SetMembershipControl.true...type-v2': 'text', 'forceUpdate': 'true', 'friendly-name': 'Text Object', 'h': '7600', 'id': '20', 'w': '98400', 'x': '800', 'y': '5200'}\n",
      "{'_.fcp.SetMembershipControl.false...type': 'layout-flow', '_.fcp.SetMembershipControl.true...type-v2': 'layout-flow', 'friendly-name': 'Horizontal Container (Top)', 'h': '43100', 'id': '80', 'param': 'horz', 'w': '98400', 'x': '800', 'y': '12800'}\n",
      "{'friendly-name': 'View: Sales', 'h': '43100', 'id': '50', 'name': 'Sales', 'w': '81600', 'x': '800', 'y': '12800'}\n",
      "{'_.fcp.SetMembershipControl.false...type': 'filter', '_.fcp.SetMembershipControl.true...type-v2': 'filter', 'friendly-name': 'Filter: Category', 'h': '43100', 'id': '60', 'name': 'Sales', 'param': '[federated.19j8y3y1h0a98d1aga8k80vdkav9].[none:Category:nk]', 'values': 'database', 'w': '16800', 'x': '82400', 'y': '12800'}\n",
      "{'_.fcp.SetMembershipControl.false...type': 'layout-flow', '_.fcp.SetMembershipControl.true...type-v2': 'layout-flow', 'friendly-name': 'Horizontal Container (Bottom)', 'h': '43100', 'id': '90', 'param': 'horz', 'w': '98400', 'x': '800', 'y': '55900'}\n",
      "{'friendly-name': 'View: Profit', 'h': '43100', 'id': '30', 'name': 'Profit', 'w': '81600', 'x': '800', 'y': '55900'}\n",
      "{'_.fcp.SetMembershipControl.false...type': 'filter', '_.fcp.SetMembershipControl.true...type-v2': 'filter', 'friendly-name': 'Filter: Sub-Category', 'h': '43100', 'id': '40', 'name': 'Profit', 'param': '[federated.19j8y3y1h0a98d1aga8k80vdkav9].[none:Sub-Category:nk]', 'values': 'database', 'w': '16800', 'x': '82400', 'y': '55900'}\n"
     ]
    }
   ],
   "source": [
    "# Retreiving all the zone tags present in the .twb file\n",
    "for elem in root.iter('zone'):\n",
    "    print(elem.attrib)"
   ]
  },
  {
   "cell_type": "code",
   "execution_count": 6,
   "id": "aa5f3287",
   "metadata": {},
   "outputs": [],
   "source": [
    "# Saving the total occurences of ids present in the .twb file\n",
    "ids = [] #creating an empty list\n",
    "for elem in root.iter('zone'):\n",
    "    ids.append(elem.attrib[\"id\"])"
   ]
  },
  {
   "cell_type": "code",
   "execution_count": 7,
   "id": "c7d36ca1",
   "metadata": {},
   "outputs": [
    {
     "data": {
      "text/plain": [
       "9"
      ]
     },
     "execution_count": 7,
     "metadata": {},
     "output_type": "execute_result"
    }
   ],
   "source": [
    "# total number of ids present in the .twb file\n",
    "len(ids)"
   ]
  },
  {
   "cell_type": "code",
   "execution_count": 8,
   "id": "109550c7",
   "metadata": {},
   "outputs": [],
   "source": [
    "# Running a loop to replace the ids with consecutive numbers\n",
    "for elem,i in zip(root.iter('zone'),range(1,len(ids)+1)):\n",
    "    elem.attrib[\"id\"] = str(i)"
   ]
  },
  {
   "cell_type": "code",
   "execution_count": 9,
   "id": "57eda023",
   "metadata": {},
   "outputs": [
    {
     "name": "stdout",
     "output_type": "stream",
     "text": [
      "{'_.fcp.SetMembershipControl.false...type': 'layout-flow', '_.fcp.SetMembershipControl.true...type-v2': 'layout-flow', 'friendly-name': 'Vertical Container', 'h': '98000', 'id': '1', 'param': 'vert', 'w': '98400', 'x': '800', 'y': '1000'}\n",
      "{'_.fcp.SetMembershipControl.false...type': 'title', '_.fcp.SetMembershipControl.true...type-v2': 'title', 'friendly-name': 'Dashboard Title', 'h': '4200', 'id': '2', 'w': '98400', 'x': '800', 'y': '1000'}\n",
      "{'_.fcp.SetMembershipControl.false...type': 'text', '_.fcp.SetMembershipControl.true...type-v2': 'text', 'forceUpdate': 'true', 'friendly-name': 'Text Object', 'h': '7600', 'id': '3', 'w': '98400', 'x': '800', 'y': '5200'}\n",
      "{'_.fcp.SetMembershipControl.false...type': 'layout-flow', '_.fcp.SetMembershipControl.true...type-v2': 'layout-flow', 'friendly-name': 'Horizontal Container (Top)', 'h': '43100', 'id': '4', 'param': 'horz', 'w': '98400', 'x': '800', 'y': '12800'}\n",
      "{'friendly-name': 'View: Sales', 'h': '43100', 'id': '5', 'name': 'Sales', 'w': '81600', 'x': '800', 'y': '12800'}\n",
      "{'_.fcp.SetMembershipControl.false...type': 'filter', '_.fcp.SetMembershipControl.true...type-v2': 'filter', 'friendly-name': 'Filter: Category', 'h': '43100', 'id': '6', 'name': 'Sales', 'param': '[federated.19j8y3y1h0a98d1aga8k80vdkav9].[none:Category:nk]', 'values': 'database', 'w': '16800', 'x': '82400', 'y': '12800'}\n",
      "{'_.fcp.SetMembershipControl.false...type': 'layout-flow', '_.fcp.SetMembershipControl.true...type-v2': 'layout-flow', 'friendly-name': 'Horizontal Container (Bottom)', 'h': '43100', 'id': '7', 'param': 'horz', 'w': '98400', 'x': '800', 'y': '55900'}\n",
      "{'friendly-name': 'View: Profit', 'h': '43100', 'id': '8', 'name': 'Profit', 'w': '81600', 'x': '800', 'y': '55900'}\n",
      "{'_.fcp.SetMembershipControl.false...type': 'filter', '_.fcp.SetMembershipControl.true...type-v2': 'filter', 'friendly-name': 'Filter: Sub-Category', 'h': '43100', 'id': '9', 'name': 'Profit', 'param': '[federated.19j8y3y1h0a98d1aga8k80vdkav9].[none:Sub-Category:nk]', 'values': 'database', 'w': '16800', 'x': '82400', 'y': '55900'}\n"
     ]
    }
   ],
   "source": [
    "# Retrieving all the zone tags to check if the id values have been replaced\n",
    "for elem in root.iter('zone'):\n",
    "    print(elem.attrib)"
   ]
  },
  {
   "cell_type": "code",
   "execution_count": 11,
   "id": "e74aa6ac",
   "metadata": {},
   "outputs": [],
   "source": [
    "#save the updated file\n",
    "tree.write('Dashboard Focus Order Fixed.twb')"
   ]
  }
 ],
 "metadata": {
  "kernelspec": {
   "display_name": "Python 3",
   "language": "python",
   "name": "python3"
  },
  "language_info": {
   "codemirror_mode": {
    "name": "ipython",
    "version": 3
   },
   "file_extension": ".py",
   "mimetype": "text/x-python",
   "name": "python",
   "nbconvert_exporter": "python",
   "pygments_lexer": "ipython3",
   "version": "3.8.8"
  }
 },
 "nbformat": 4,
 "nbformat_minor": 5
}
